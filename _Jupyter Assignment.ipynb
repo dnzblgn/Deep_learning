{
 "cells": [
  {
   "cell_type": "markdown",
   "id": "557c586e",
   "metadata": {},
   "source": [
    "#  Jupyter Assignment"
   ]
  },
  {
   "cell_type": "markdown",
   "id": "5fb3c2c1",
   "metadata": {},
   "source": [
    "## Hello this is the introduction."
   ]
  },
  {
   "cell_type": "markdown",
   "id": "822fa3d9",
   "metadata": {},
   "source": [
    "### Below is Data Science Languages"
   ]
  },
  {
   "cell_type": "markdown",
   "id": "3a3a284d",
   "metadata": {},
   "source": [
    "### 1- Python\n",
    "### 2- R\n",
    "### 3- SQL\n",
    "### 4- Julia\n",
    "### 5- Scala"
   ]
  },
  {
   "cell_type": "markdown",
   "id": "33a99d40",
   "metadata": {},
   "source": [
    "### Below is Data Science Libraries"
   ]
  },
  {
   "cell_type": "markdown",
   "id": "671d99ff",
   "metadata": {},
   "source": [
    "pandas\n",
    "\n",
    "NumPy\n",
    "\n",
    "Dask\n",
    "\n",
    "scikit-learn\n",
    "\n",
    "TensorFlow\n",
    "\n",
    "PyTorch\n",
    "\n",
    "Keras\n",
    "\n",
    "SciPy\n",
    "\n",
    "NLTK\n",
    "\n",
    "spaCy\n",
    "\n",
    "Matplotlib\n",
    "\n",
    "Seaborn\n",
    "\n",
    "ggplot2\n",
    "\n",
    "dplyr\n",
    "\n",
    "caret\n",
    "\n",
    "randomForest\n",
    "\n",
    "tidyr\n",
    "\n",
    "SQLite\n",
    "\n",
    "SQLAlchemy"
   ]
  },
  {
   "cell_type": "markdown",
   "id": "7da5b9ef",
   "metadata": {},
   "source": [
    "| Data Science Tools       | Purpose                                |\n",
    "|--------------------------|----------------------------------------|\n",
    "| Python                   | General purpose programming language  |\n",
    "| R                        | Statistical analysis and visualization|\n",
    "| SQL                      | Data querying and management          |\n",
    "| TensorFlow               | Deep learning framework               |\n",
    "| scikit-learn             | Machine learning library              |\n"
   ]
  },
  {
   "cell_type": "markdown",
   "id": "dfb4e5ed",
   "metadata": {},
   "source": [
    "## Arithmetic Expression Examples\n",
    "\n",
    "#### Below are some examples of arithmetic expressions.\n"
   ]
  },
  {
   "cell_type": "code",
   "execution_count": 5,
   "id": "dcce0f08",
   "metadata": {},
   "outputs": [
    {
     "data": {
      "text/plain": [
       "34"
      ]
     },
     "execution_count": 5,
     "metadata": {},
     "output_type": "execute_result"
    }
   ],
   "source": [
    "3 + 31"
   ]
  },
  {
   "cell_type": "code",
   "execution_count": 6,
   "id": "7e3b3c86",
   "metadata": {},
   "outputs": [
    {
     "data": {
      "text/plain": [
       "124"
      ]
     },
     "execution_count": 6,
     "metadata": {},
     "output_type": "execute_result"
    }
   ],
   "source": [
    "4 * 31"
   ]
  },
  {
   "cell_type": "code",
   "execution_count": 7,
   "id": "08b1913c",
   "metadata": {},
   "outputs": [
    {
     "name": "stdout",
     "output_type": "stream",
     "text": [
      "1698 minutes is equal to 28.3 hours.\n"
     ]
    }
   ],
   "source": [
    "minutes = 1698\n",
    "hours = minutes / 60\n",
    "print(f\"{minutes} minutes is equal to {hours} hours.\")\n"
   ]
  },
  {
   "cell_type": "markdown",
   "id": "c49edc64",
   "metadata": {},
   "source": [
    "## Objectives\n",
    "\n",
    "#### Below are the key objectives of this project:\n",
    "- Understand the data science.\n",
    "- Explore data analysis techniques."
   ]
  },
  {
   "cell_type": "markdown",
   "id": "d8a6165c",
   "metadata": {},
   "source": [
    "## Deniz Bilgin"
   ]
  },
  {
   "cell_type": "code",
   "execution_count": null,
   "id": "2591c532",
   "metadata": {},
   "outputs": [],
   "source": []
  }
 ],
 "metadata": {
  "kernelspec": {
   "display_name": "Python 3 (ipykernel)",
   "language": "python",
   "name": "python3"
  },
  "language_info": {
   "codemirror_mode": {
    "name": "ipython",
    "version": 3
   },
   "file_extension": ".py",
   "mimetype": "text/x-python",
   "name": "python",
   "nbconvert_exporter": "python",
   "pygments_lexer": "ipython3",
   "version": "3.8.16"
  }
 },
 "nbformat": 4,
 "nbformat_minor": 5
}
